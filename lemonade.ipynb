{
  "nbformat": 4,
  "nbformat_minor": 0,
  "metadata": {
    "colab": {
      "name": "lemonade.ipynb",
      "provenance": [],
      "collapsed_sections": [],
      "authorship_tag": "ABX9TyNb0uL52R3zwrBv3QcFiPpF",
      "include_colab_link": true
    },
    "kernelspec": {
      "name": "python3",
      "display_name": "Python 3"
    }
  },
  "cells": [
    {
      "cell_type": "markdown",
      "metadata": {
        "id": "view-in-github",
        "colab_type": "text"
      },
      "source": [
        "<a href=\"https://colab.research.google.com/github/hwaneGithub/hwaneGithub.github.io/blob/master/lemonade.ipynb\" target=\"_parent\"><img src=\"https://colab.research.google.com/assets/colab-badge.svg\" alt=\"Open In Colab\"/></a>"
      ]
    },
    {
      "cell_type": "markdown",
      "metadata": {
        "id": "9Q1gTsnmrEAw"
      },
      "source": [
        "# 레모네이드 판매 예측 모델"
      ]
    },
    {
      "cell_type": "markdown",
      "metadata": {
        "id": "36OL3G1inpoY"
      },
      "source": [
        "### 1. 데이터 준비"
      ]
    },
    {
      "cell_type": "code",
      "metadata": {
        "id": "_m9vhturnLzF"
      },
      "source": [
        "import pandas as pd"
      ],
      "execution_count": null,
      "outputs": []
    },
    {
      "cell_type": "code",
      "metadata": {
        "colab": {
          "base_uri": "https://localhost:8080/",
          "height": 142
        },
        "id": "xbDjq8cJnRwU",
        "outputId": "c0ade4ea-c153-4a4c-efc7-f64af672b3ab"
      },
      "source": [
        "lemonade = pd.read_csv('https://raw.githubusercontent.com/blackdew/tensorflow1/master/csv/lemonade.csv')\r\n",
        "lemonade.head(3)"
      ],
      "execution_count": null,
      "outputs": [
        {
          "output_type": "execute_result",
          "data": {
            "text/html": [
              "<div>\n",
              "<style scoped>\n",
              "    .dataframe tbody tr th:only-of-type {\n",
              "        vertical-align: middle;\n",
              "    }\n",
              "\n",
              "    .dataframe tbody tr th {\n",
              "        vertical-align: top;\n",
              "    }\n",
              "\n",
              "    .dataframe thead th {\n",
              "        text-align: right;\n",
              "    }\n",
              "</style>\n",
              "<table border=\"1\" class=\"dataframe\">\n",
              "  <thead>\n",
              "    <tr style=\"text-align: right;\">\n",
              "      <th></th>\n",
              "      <th>온도</th>\n",
              "      <th>판매량</th>\n",
              "    </tr>\n",
              "  </thead>\n",
              "  <tbody>\n",
              "    <tr>\n",
              "      <th>0</th>\n",
              "      <td>20</td>\n",
              "      <td>40</td>\n",
              "    </tr>\n",
              "    <tr>\n",
              "      <th>1</th>\n",
              "      <td>21</td>\n",
              "      <td>42</td>\n",
              "    </tr>\n",
              "    <tr>\n",
              "      <th>2</th>\n",
              "      <td>22</td>\n",
              "      <td>44</td>\n",
              "    </tr>\n",
              "  </tbody>\n",
              "</table>\n",
              "</div>"
            ],
            "text/plain": [
              "   온도  판매량\n",
              "0  20   40\n",
              "1  21   42\n",
              "2  22   44"
            ]
          },
          "metadata": {
            "tags": []
          },
          "execution_count": 19
        }
      ]
    },
    {
      "cell_type": "code",
      "metadata": {
        "colab": {
          "base_uri": "https://localhost:8080/"
        },
        "id": "t-uKy19KnVYo",
        "outputId": "ad54f47e-67a9-4d40-a3c7-60963ce16bae"
      },
      "source": [
        "x_data = lemonade[['온도']]       # 독립변수 : 원인\r\n",
        "y_data = lemonade[['판매량']]     # 종속변수 : 결과\r\n",
        "print(x_data.shape, y_data.shape)"
      ],
      "execution_count": null,
      "outputs": [
        {
          "output_type": "stream",
          "text": [
            "(6, 1) (6, 1)\n"
          ],
          "name": "stdout"
        }
      ]
    },
    {
      "cell_type": "markdown",
      "metadata": {
        "id": "mhmKRWnlnaUQ"
      },
      "source": [
        "### 2. 모델 구조"
      ]
    },
    {
      "cell_type": "code",
      "metadata": {
        "id": "cc88kzYVocZq"
      },
      "source": [
        "import tensorflow as tf"
      ],
      "execution_count": null,
      "outputs": []
    },
    {
      "cell_type": "code",
      "metadata": {
        "id": "c1PAl3GJn829"
      },
      "source": [
        "X = tf.keras.layers.Input(shape=[1])  # 독립변수 컬럼 수\r\n",
        "Y = tf.keras.layers.Dense(1)(X)       # 종속변수 컬럼 수\r\n",
        "model = tf.keras.models.Model(X, Y)\r\n",
        "model.compile(loss='mse')             # model이 학습할 방법"
      ],
      "execution_count": null,
      "outputs": []
    },
    {
      "cell_type": "markdown",
      "metadata": {
        "id": "EDhOYEGXoa8F"
      },
      "source": [
        "### 3. 모델 학습"
      ]
    },
    {
      "cell_type": "code",
      "metadata": {
        "colab": {
          "base_uri": "https://localhost:8080/"
        },
        "id": "8reFJ6_dovv7",
        "outputId": "9e8f3a13-8c8d-4cfa-9e54-c0cf9f796ec7"
      },
      "source": [
        "model.fit(x_data, y_data, epochs=10)  # epochs: 전체 데이터를 몇 번 학습할지\r\n",
        "                                      # loss : (실제값 - 예측값)**2의 평균.\r\n",
        "                                      # 즉, 실제와 예측의 차이가 적을수록 loss가 0에 가까워짐.\r\n",
        "                                      # verbose=0 : 학습이 출력되지 않음\r\n",
        "                                      # e-04 = 10**-4 =>  2.0868e-04 = 2.0868 * 0.0001 = 0.0002"
      ],
      "execution_count": null,
      "outputs": [
        {
          "output_type": "stream",
          "text": [
            "Epoch 1/10\n",
            "1/1 [==============================] - 0s 3ms/step - loss: 2.0940e-04\n",
            "Epoch 2/10\n",
            "1/1 [==============================] - 0s 6ms/step - loss: 2.0926e-04\n",
            "Epoch 3/10\n",
            "1/1 [==============================] - 0s 5ms/step - loss: 2.0919e-04\n",
            "Epoch 4/10\n",
            "1/1 [==============================] - 0s 4ms/step - loss: 2.0911e-04\n",
            "Epoch 5/10\n",
            "1/1 [==============================] - 0s 4ms/step - loss: 2.0902e-04\n",
            "Epoch 6/10\n",
            "1/1 [==============================] - 0s 4ms/step - loss: 2.0896e-04\n",
            "Epoch 7/10\n",
            "1/1 [==============================] - 0s 4ms/step - loss: 2.0885e-04\n",
            "Epoch 8/10\n",
            "1/1 [==============================] - 0s 4ms/step - loss: 2.0875e-04\n",
            "Epoch 9/10\n",
            "1/1 [==============================] - 0s 4ms/step - loss: 2.0870e-04\n",
            "Epoch 10/10\n",
            "1/1 [==============================] - 0s 4ms/step - loss: 2.0868e-04\n"
          ],
          "name": "stdout"
        },
        {
          "output_type": "execute_result",
          "data": {
            "text/plain": [
              "<tensorflow.python.keras.callbacks.History at 0x7efdd94b09b0>"
            ]
          },
          "metadata": {
            "tags": []
          },
          "execution_count": 27
        }
      ]
    },
    {
      "cell_type": "markdown",
      "metadata": {
        "id": "3No1kQ6to6bK"
      },
      "source": [
        "4. 모델 이용"
      ]
    },
    {
      "cell_type": "code",
      "metadata": {
        "colab": {
          "base_uri": "https://localhost:8080/"
        },
        "id": "Wi9KAyxipVF-",
        "outputId": "0ae068ca-538c-4b2b-fd63-45c7aa401a44"
      },
      "source": [
        "model.predict(x_data)"
      ],
      "execution_count": null,
      "outputs": [
        {
          "output_type": "execute_result",
          "data": {
            "text/plain": [
              "array([[40.02331 ],\n",
              "       [42.01893 ],\n",
              "       [44.014545],\n",
              "       [46.010162],\n",
              "       [48.005783],\n",
              "       [50.0014  ]], dtype=float32)"
            ]
          },
          "metadata": {
            "tags": []
          },
          "execution_count": 29
        }
      ]
    },
    {
      "cell_type": "code",
      "metadata": {
        "colab": {
          "base_uri": "https://localhost:8080/"
        },
        "id": "600GvW0DtSRv",
        "outputId": "2041bbd0-ebfc-4b3f-9b04-da6aa41b0cf3"
      },
      "source": [
        "print('예측값 : ', model.predict([[15]]))   # 온도가 15도일 때 몇 개 사용하면 되는지"
      ],
      "execution_count": null,
      "outputs": [
        {
          "output_type": "stream",
          "text": [
            "예측값 :  [[30.04522]]\n"
          ],
          "name": "stdout"
        }
      ]
    }
  ]
}